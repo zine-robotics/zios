{
 "cells": [
  {
   "cell_type": "code",
   "execution_count": 206,
   "metadata": {},
   "outputs": [
    {
     "name": "stdout",
     "output_type": "stream",
     "text": [
      "ArenaEntity(id=1, aruco_id=None, entity_type=BOUNDARY, color=red, shape=circle, tag=boundary1, mobility=None)\n",
      "ArenaEntity(id=2, aruco_id=None, entity_type=BOUNDARY, color=red, shape=circle, tag=boundary2, mobility=None)\n",
      "ArenaEntity(id=3, aruco_id=None, entity_type=BOUNDARY, color=red, shape=circle, tag=boundary3, mobility=None)\n",
      "ArenaEntity(id=4, aruco_id=None, entity_type=BOUNDARY, color=red, shape=circle, tag=boundary4, mobility=None)\n",
      "ArenaEntity(id=5, aruco_id=None, entity_type=PLAYER, color=green, shape=triangle, tag=playerA, mobility=None)\n",
      "ArenaEntity(id=6, aruco_id=None, entity_type=PLAYER, color=red, shape=triangle, tag=playerB, mobility=None)\n"
     ]
    }
   ],
   "source": [
    "import json\n",
    "from enum import Enum\n",
    "\n",
    "# Define EntityType Enum\n",
    "class EntityType(Enum):\n",
    "    BOUNDARY = \"boundary\"\n",
    "    PLAYER = \"player\"\n",
    "    OBJECT = \"object\"\n",
    "    REGION = \"region\"\n",
    "\n",
    "# Define ArenaEntity class\n",
    "class ArenaEntity:\n",
    "    def __init__(self, color, shape, tag, aruco_id, entity_id, entity_type, mobility):\n",
    "        self.color = color\n",
    "        self.shape = shape\n",
    "        self.tag = tag\n",
    "        self.aruco_id = aruco_id\n",
    "        self.id = entity_id\n",
    "        self.entity_type = entity_type  # Entity type using Enum (BOUNDARY, PLAYER, OBJECT, REGION)\n",
    "        self.mobility = mobility  # Parameter indicating movement capability\n",
    "\n",
    "    def __repr__(self):\n",
    "        return (f\"ArenaEntity(id={self.id}, aruco_id={self.aruco_id}, entity_type={self.entity_type.name}, \"\n",
    "                f\"color={self.color}, shape={self.shape}, tag={self.tag}, mobility={self.mobility})\")\n",
    "\n",
    "# Function to parse the JSON configuration and return a list of ArenaEntity objects\n",
    "def create_entities_from_config(json_config):\n",
    "    entities = []\n",
    "    entity_id_counter = 1  # Start the entity IDs from 1\n",
    "\n",
    "    # Mapping of entity_type names to the EntityType enum\n",
    "    entity_type_mapping = {\n",
    "        \"boundary\": EntityType.BOUNDARY,\n",
    "        \"player\": EntityType.PLAYER,\n",
    "        \"object\": EntityType.OBJECT,\n",
    "        \"region\": EntityType.REGION\n",
    "    }\n",
    "\n",
    "    # Loop through each entity_type in the JSON config\n",
    "    for entity_type_key, objects in json_config.items():\n",
    "        entity_type = entity_type_mapping.get(entity_type_key)  # Convert to EntityType Enum\n",
    "\n",
    "        # Iterate through the list of objects for the current entity_type\n",
    "        for obj in objects:\n",
    "            count = obj.get(\"count\", 1)  # Default count to 1 if not provided\n",
    "            for _ in range(count):\n",
    "                # Create an ArenaEntity object for each entity and give it a unique id\n",
    "                entity = ArenaEntity(\n",
    "                    entity_id = obj.get(\"id\"),\n",
    "                    color=obj.get(\"color\"),\n",
    "                    shape=obj.get(\"shape\"),\n",
    "                    tag=obj.get(\"tags\"),\n",
    "                    aruco_id=obj.get(\"aruco_id\"),  # Assuming aruco_id isn't provided in the JSON, can add logic if needed\n",
    "                    entity_type=entity_type,\n",
    "                    mobility=obj.get(\"mobility\")\n",
    "                )\n",
    "                entities.append(entity)\n",
    "                entity_id_counter += 1  # Increment the entity ID for each entity\n",
    "\n",
    "    return entities\n",
    "\n",
    "# Function to read JSON from file\n",
    "def read_json_from_file(file_path):\n",
    "    with open(file_path, \"r\") as file:\n",
    "        json_data = json.load(file)\n",
    "    return json_data\n",
    "\n",
    "# Example usage:\n",
    "json_file_path = \"config/config3.json\"  # Specify the path to your JSON file\n",
    "json_config = read_json_from_file(json_file_path)\n",
    "\n",
    "# Create entities from the config\n",
    "created_entities = create_entities_from_config(json_config)\n",
    "\n",
    "# Display the created entities\n",
    "for entity in created_entities:\n",
    "    print(entity)\n"
   ]
  },
  {
   "cell_type": "code",
   "execution_count": 207,
   "metadata": {},
   "outputs": [],
   "source": [
    "import numpy as np\n",
    "import cv2\n",
    "from enum import Enum\n",
    "from shapely.geometry import MultiPoint, Polygon\n",
    "\n",
    "# Define color ranges (HSV format)\n",
    "COLOR_RANGES = {\n",
    "    \"red\": [\n",
    "        (np.array([0, 50, 50]), np.array([10, 255, 255])),  # Lower red range\n",
    "        (np.array([170, 50, 50]), np.array([180, 255, 255]))  # Upper red range\n",
    "    ],\n",
    "    \"blue\": [\n",
    "        (np.array([100, 50, 50]), np.array([130, 255, 255])),\n",
    "    ],\n",
    "    \"green\": [\n",
    "        (np.array([40, 50, 50]), np.array([80, 255, 255]))\n",
    "    ],\n",
    "    \"yellow\": [\n",
    "        (np.array([20, 100, 100]), np.array([30, 255, 255]))\n",
    "    ],\n",
    "    \"cyan\": [\n",
    "        (np.array([80, 100, 100]), np.array([90, 255, 255]))\n",
    "    ],\n",
    "    \"magenta\": [\n",
    "        (np.array([140, 50, 50]), np.array([160, 255, 255]))\n",
    "    ],\n",
    "    \"orange\": [\n",
    "        (np.array([10, 100, 100]), np.array([20, 255, 255]))\n",
    "    ],\n",
    "    \"purple\": [\n",
    "        (np.array([125, 50, 50]), np.array([140, 255, 255]))\n",
    "    ],\n",
    "    \"black\": [\n",
    "        (np.array([0, 0, 0]), np.array([180, 255, 30]))\n",
    "    ],\n",
    "    \"white\": [\n",
    "        (np.array([0, 0, 200]), np.array([180, 30, 255]))\n",
    "    ]\n",
    "}\n"
   ]
  },
  {
   "cell_type": "code",
   "execution_count": 209,
   "metadata": {},
   "outputs": [],
   "source": [
    " # Compute the concave hull\n",
    "def compute_concave_hull(points, alpha=0.1):\n",
    "    if len(points) < 4:\n",
    "        return points  # Not enough points for a hull\n",
    "    points = MultiPoint(points)\n",
    "    polygon = points.convex_hull\n",
    "    return polygon\n"
   ]
  },
  {
   "cell_type": "markdown",
   "metadata": {},
   "source": [
    "# Working"
   ]
  },
  {
   "cell_type": "code",
   "execution_count": 27,
   "metadata": {},
   "outputs": [],
   "source": [
    "cam = cv2.VideoCapture(0, cv2.CAP_DSHOW)\n",
    "cam.set(cv2.CAP_PROP_FRAME_WIDTH, 1280)\n",
    "cam.set(cv2.CAP_PROP_FRAME_HEIGHT, 720)\n",
    "\n",
    "height = 500\n",
    "width = 800\n",
    "\n",
    "while True:\n",
    "    ret, frame = cam.read()\n",
    "    if not ret:\n",
    "        break\n",
    "\n",
    "    cv2.imshow(\"Frame\",frame)\n",
    "\n",
    "\n",
    "\n",
    "    if cv2.waitKey(1) == ord(\"q\"):\n",
    "        break\n",
    "\n",
    "cam.release()\n",
    "cv2.destroyAllWindows()"
   ]
  },
  {
   "cell_type": "code",
   "execution_count": 210,
   "metadata": {},
   "outputs": [],
   "source": [
    "def detect_shapes_and_colors(image):\n",
    "\n",
    "    detected_shapes = []\n",
    "    hsv_image = cv2.cvtColor(image, cv2.COLOR_BGR2HSV)\n",
    "\n",
    "    for color_name, ranges in COLOR_RANGES.items():\n",
    "        # Create a combined mask for the color\n",
    "        mask = np.zeros(image.shape[:2], dtype=np.uint8)\n",
    "        for lower, upper in ranges:\n",
    "            mask = cv2.bitwise_or(mask, cv2.inRange(hsv_image, lower, upper))\n",
    "\n",
    "        # Find contours for the color\n",
    "        contours, _ = cv2.findContours(mask, cv2.RETR_EXTERNAL, cv2.CHAIN_APPROX_SIMPLE)\n",
    "\n",
    "        for contour in contours:\n",
    "            if cv2.contourArea(contour) > 100:  # Filter small contours\n",
    "                # Approximate the contour to detect shapes\n",
    "                epsilon = 0.02 * cv2.arcLength(contour, True)\n",
    "                approx = cv2.approxPolyDP(contour, epsilon, True)\n",
    "                shape = \"unknown\"\n",
    "\n",
    "                # Identify shape based on the number of vertices\n",
    "                num_vertices = len(approx)\n",
    "                if num_vertices > 7:\n",
    "                    shape = \"circle\"\n",
    "                elif num_vertices == 3:\n",
    "                    shape = \"triangle\"\n",
    "                elif num_vertices == 4:\n",
    "                    # Further check for rectangle or square\n",
    "                    (x, y, w, h) = cv2.boundingRect(approx)\n",
    "                    aspect_ratio = float(w) / h\n",
    "                    if 0.9 <= aspect_ratio <= 1.1:\n",
    "                        shape = \"square\"\n",
    "                    else:\n",
    "                        shape = \"rectangle\"\n",
    "                elif num_vertices == 2:\n",
    "                    shape = \"line\"\n",
    "\n",
    "                # Get points for the detected shape\n",
    "                points = [tuple(point[0]) for point in approx]\n",
    "                detected_shapes.append(((shape, color_name), points))\n",
    "\n",
    "    return detected_shapes"
   ]
  },
  {
   "cell_type": "code",
   "execution_count": 221,
   "metadata": {},
   "outputs": [],
   "source": [
    "def detect_aruco_markers(image):\n",
    "\n",
    "    markerDictionary = cv2.aruco.getPredefinedDictionary(cv2.aruco.DICT_5X5_50)\n",
    "    detectorParam = cv2.aruco.DetectorParameters()\n",
    "    detector = cv2.aruco.ArucoDetector(markerDictionary, detectorParam)\n",
    "    corners, ids, rejected = detector.detectMarkers(image)\n",
    "\n",
    "    list_of_aruco = []\n",
    "    if ids is not None :\n",
    "        for i in range(len(ids)):\n",
    "            list_of_aruco.append((ids[i][0],corners[i][0]))\n",
    "\n",
    "    return list_of_aruco"
   ]
  },
  {
   "cell_type": "code",
   "execution_count": 222,
   "metadata": {},
   "outputs": [
    {
     "name": "stdout",
     "output_type": "stream",
     "text": [
      "[('circle', 'red'), ('circle', 'red'), ('triangle', 'red'), ('circle', 'red'), ('circle', 'red'), ('triangle', 'green'), ('rectangle', 'white')]\n",
      "[]\n"
     ]
    }
   ],
   "source": [
    "image = cv2.imread('test_images/shapes3.png')  #\n",
    "shape_color_points = detect_shapes_and_colors(image)\n",
    "aruco_marker_points = detect_aruco_markers(image)\n",
    "print([x[0] for x in shape_color_points])\n",
    "print([x[0] for x in aruco_marker_points])"
   ]
  },
  {
   "cell_type": "code",
   "execution_count": 223,
   "metadata": {},
   "outputs": [],
   "source": [
    "from collections import defaultdict\n",
    "\n",
    "def assign_positions_to_color_entities(entities, shape_color_points):\n",
    "\n",
    "    # Grouping entities by shape and color\n",
    "    grouped_entities = defaultdict(list)\n",
    "    for entity in entities:\n",
    "        grouped_entities[(entity.shape, entity.color)].append(entity)\n",
    "\n",
    "    # Dictionary to store available positions by shape and color\n",
    "    positions_dict = defaultdict(list)\n",
    "    for (shape, color), points in shape_color_points:\n",
    "        positions_dict[(shape, color)].append(points)\n",
    "    # print([len(x) for x in positions_dict.values()])\n",
    "\n",
    "    # Prepare result list\n",
    "    result = []\n",
    "\n",
    "    # For each shape/color group, assign points to each entity in the group\n",
    "    for shape_color, entities_group in grouped_entities.items():\n",
    "        shape, color = shape_color\n",
    "        \n",
    "        if len(grouped_entities[(shape, color)]) <= len(positions_dict[(shape, color)]):\n",
    "            for i in range(len(grouped_entities[(shape, color)])):\n",
    "                positions = positions_dict[(shape, color)].pop()\n",
    "                entity = grouped_entities[(shape, color)].pop()\n",
    "                result.append((entity,positions))\n",
    "            \n",
    "    return result"
   ]
  },
  {
   "cell_type": "code",
   "execution_count": 224,
   "metadata": {},
   "outputs": [],
   "source": [
    "def assign_positions_to_aruco_entities(entities, list_of_aruco):\n",
    "\n",
    "    # Grouping entities by shape and color\n",
    "    grouped_entities = defaultdict(list)\n",
    "    for entity in entities:\n",
    "        grouped_entities[entity.aruco_id].append(entity)\n",
    "\n",
    "    # Dictionary to store available positions by shape and color\n",
    "    positions_dict = defaultdict(list)\n",
    "    for id, points in list_of_aruco:\n",
    "        positions_dict[id].append(points)\n",
    "    # print([len(x) for x in positions_dict.values()])\n",
    "\n",
    "    # Prepare result list\n",
    "    result = []\n",
    "\n",
    "    # For each shape/color group, assign points to each entity in the group\n",
    "    for id, entities_group in grouped_entities.items():\n",
    "        if len(grouped_entities[id]) <= len(positions_dict[id]):\n",
    "            for i in range(len(grouped_entities[id])):\n",
    "                positions = positions_dict[id].pop()\n",
    "                entity = grouped_entities[id].pop()\n",
    "                result.append((entity,positions))\n",
    "            \n",
    "    return result"
   ]
  },
  {
   "cell_type": "code",
   "execution_count": 225,
   "metadata": {},
   "outputs": [
    {
     "name": "stdout",
     "output_type": "stream",
     "text": [
      "[]\n",
      "[ArenaEntity(id=1, aruco_id=None, entity_type=BOUNDARY, color=red, shape=circle, tag=boundary1, mobility=None), ArenaEntity(id=2, aruco_id=None, entity_type=BOUNDARY, color=red, shape=circle, tag=boundary2, mobility=None), ArenaEntity(id=3, aruco_id=None, entity_type=BOUNDARY, color=red, shape=circle, tag=boundary3, mobility=None), ArenaEntity(id=4, aruco_id=None, entity_type=BOUNDARY, color=red, shape=circle, tag=boundary4, mobility=None), ArenaEntity(id=5, aruco_id=None, entity_type=PLAYER, color=green, shape=triangle, tag=playerA, mobility=None), ArenaEntity(id=6, aruco_id=None, entity_type=PLAYER, color=red, shape=triangle, tag=playerB, mobility=None)]\n"
     ]
    }
   ],
   "source": [
    "aruco_entities = []\n",
    "color_entities = []\n",
    "\n",
    "for entity in created_entities:\n",
    "    if entity.aruco_id!=None:\n",
    "        aruco_entities.append(entity)\n",
    "    if entity.color != None:\n",
    "        color_entities.append(entity)\n",
    "\n",
    "print(aruco_entities)\n",
    "print(color_entities)\n"
   ]
  },
  {
   "cell_type": "code",
   "execution_count": 226,
   "metadata": {},
   "outputs": [
    {
     "name": "stdout",
     "output_type": "stream",
     "text": [
      "[(ArenaEntity(id=4, aruco_id=None, entity_type=BOUNDARY, color=red, shape=circle, tag=boundary4, mobility=None), [(731, 102), (714, 126), (728, 157), (759, 165), (788, 149), (794, 126), (780, 104), (759, 96)]), (ArenaEntity(id=3, aruco_id=None, entity_type=BOUNDARY, color=red, shape=circle, tag=boundary3, mobility=None), [(235, 103), (216, 121), (217, 140), (232, 154), (256, 154), (271, 140), (271, 118), (253, 103)]), (ArenaEntity(id=2, aruco_id=None, entity_type=BOUNDARY, color=red, shape=circle, tag=boundary2, mobility=None), [(602, 340), (583, 351), (577, 374), (588, 393), (611, 399), (629, 388), (635, 365), (624, 346)]), (ArenaEntity(id=1, aruco_id=None, entity_type=BOUNDARY, color=red, shape=circle, tag=boundary1, mobility=None), [(203, 362), (185, 374), (180, 397), (193, 418), (211, 422), (229, 410), (234, 387), (221, 366)]), (ArenaEntity(id=5, aruco_id=None, entity_type=PLAYER, color=green, shape=triangle, tag=playerA, mobility=None), [(557, 135), (533, 181), (582, 182)]), (ArenaEntity(id=6, aruco_id=None, entity_type=PLAYER, color=red, shape=triangle, tag=playerB, mobility=None), [(367, 205), (339, 256), (396, 257)])]\n"
     ]
    }
   ],
   "source": [
    "color_entity_pos = assign_positions_to_color_entities(created_entities, shape_color_points)\n",
    "aruco_entity_pos = assign_positions_to_aruco_entities(aruco_entities,aruco_marker_points)\n",
    "# pprint.pp([x[0] for x in entity_pos])\n",
    "\n",
    "\n",
    "entity_pos = []\n",
    "entity_pos.extend(color_entity_pos)\n",
    "entity_pos.extend(aruco_entity_pos)\n",
    "\n",
    "print(entity_pos)"
   ]
  },
  {
   "cell_type": "code",
   "execution_count": 227,
   "metadata": {},
   "outputs": [],
   "source": [
    "def process_boundary_data(list_of_entity_pos):\n",
    "\n",
    "    all_points = []\n",
    "\n",
    "    for entity, points in list_of_entity_pos:\n",
    "        # Calculate the center point of the boundary entity\n",
    "        center = np.mean(points, axis=0)\n",
    "        all_points.append(center)\n",
    "\n",
    "    if len(all_points) == 0:\n",
    "        print(\"No center points found for boundary entities.\")\n",
    "        return None\n",
    "\n",
    "    # Compute convex hull of the center points\n",
    "    all_points = np.array(all_points)\n",
    "    convex_hull = compute_concave_hull(all_points)\n",
    "    hull_points = np.array(list(convex_hull.exterior.coords), dtype=np.int32)\n",
    "\n",
    "    return hull_points[:-1]"
   ]
  },
  {
   "cell_type": "code",
   "execution_count": 257,
   "metadata": {},
   "outputs": [],
   "source": [
    "def categorize_entity(entity_pos):\n",
    "\n",
    "    # Initialize categorized entity lists\n",
    "    entity_categories = {\n",
    "        EntityType.BOUNDARY: [],\n",
    "        EntityType.PLAYER: [],\n",
    "        EntityType.OBJECT: [],\n",
    "        EntityType.REGION: [],\n",
    "    }\n",
    "\n",
    "    # Categorize entities\n",
    "    for (entity,pos) in entity_pos:\n",
    "        if entity.entity_type in entity_categories:\n",
    "            entity_categories[entity.entity_type].append((entity,np.array(pos)))\n",
    "        else:\n",
    "            print(f\"Unknown entity type: {entity.entity_type}\")\n",
    "\n",
    "    boundary_points = process_boundary_data(entity_categories[EntityType.BOUNDARY])\n",
    "    entity_categories[EntityType.BOUNDARY] = boundary_points\n",
    "\n",
    "    return entity_categories"
   ]
  },
  {
   "cell_type": "code",
   "execution_count": 263,
   "metadata": {},
   "outputs": [],
   "source": [
    "def transform_points(points, M):\n",
    "\n",
    "    points_homogeneous = np.hstack([points, np.ones((points.shape[0], 1))])\n",
    "    transformed_points_homogeneous = np.dot(points_homogeneous, M.T)\n",
    "    transformed_points = transformed_points_homogeneous[:, :2] / transformed_points_homogeneous[:, 2][:, np.newaxis]\n",
    "    return np.array(transformed_points,dtype=np.int32)"
   ]
  },
  {
   "cell_type": "code",
   "execution_count": 264,
   "metadata": {},
   "outputs": [],
   "source": [
    "def get_6dof_pos(points, is_aruco=False):\n",
    "\n",
    "    if is_aruco:\n",
    "        x = (points[0][0] + points[2][0]) / 2\n",
    "        y = (points[0][1] + points[2][1]) / 2\n",
    "        yaw = np.arctan2(points[2][1] - points[0][1], points[2][0] - points[0][0])\n",
    "        return np.array((x, y, 0, 0, 0, yaw),dtype=np.int32)\n",
    "    \n",
    "    \n",
    "    else:\n",
    "        point = np.mean(points,axis=0)\n",
    "        return np.array((point[0], point[1], 0, 0, 0, 0),dtype=np.int32)\n"
   ]
  },
  {
   "cell_type": "code",
   "execution_count": 265,
   "metadata": {},
   "outputs": [],
   "source": [
    "\n",
    "def process_entity_data(entity_data, M):\n",
    "\n",
    "    for entity_type in entity_data:\n",
    "        if entity_type  == EntityType.BOUNDARY:\n",
    "            tf_pos = transform_points(entity_data[EntityType.BOUNDARY],M)\n",
    "            entity_data[EntityType.BOUNDARY] = tf_pos\n",
    "        else:\n",
    "            process_entity_pos = []\n",
    "            entity_pos = entity_data[entity_type]\n",
    "            for entity,pos in entity_pos:\n",
    "                if len(pos) > 0:\n",
    "                    tf_pos = transform_points(pos,M)\n",
    "                    if entity_type in [EntityType.OBJECT,EntityType.PLAYER] :\n",
    "                        tf_pose = get_6dof_pos(tf_pos,entity.aruco_id!=None)\n",
    "                    process_entity_pos.append((entity,tf_pose))\n",
    "\n",
    "                entity_data[entity_type] = process_entity_pos\n",
    "\n",
    "    return entity_data"
   ]
  },
  {
   "cell_type": "code",
   "execution_count": 266,
   "metadata": {},
   "outputs": [
    {
     "data": {
      "text/plain": [
       "{<EntityType.BOUNDARY: 'boundary'>: array([[756, 128],\n",
       "        [243, 129],\n",
       "        [207, 392],\n",
       "        [606, 369]]),\n",
       " <EntityType.PLAYER: 'player'>: [(ArenaEntity(id=5, aruco_id=None, entity_type=PLAYER, color=green, shape=triangle, tag=playerA, mobility=None),\n",
       "   array([[557, 135],\n",
       "          [533, 181],\n",
       "          [582, 182]], dtype=int32)),\n",
       "  (ArenaEntity(id=6, aruco_id=None, entity_type=PLAYER, color=red, shape=triangle, tag=playerB, mobility=None),\n",
       "   array([[367, 205],\n",
       "          [339, 256],\n",
       "          [396, 257]], dtype=int32))],\n",
       " <EntityType.OBJECT: 'object'>: [],\n",
       " <EntityType.REGION: 'region'>: []}"
      ]
     },
     "execution_count": 266,
     "metadata": {},
     "output_type": "execute_result"
    }
   ],
   "source": [
    "entity_data = categorize_entity(entity_pos)\n",
    "entity_data"
   ]
  },
  {
   "cell_type": "code",
   "execution_count": 267,
   "metadata": {},
   "outputs": [],
   "source": [
    "def order_points(pts):\n",
    "\n",
    "    rect = np.zeros((4, 2), dtype=\"float32\")\n",
    "\n",
    "    s = pts.sum(axis=1)\n",
    "    diff = np.diff(pts, axis=1)\n",
    "\n",
    "    rect[0] = pts[np.argmin(s)]  # top-left: smallest sum of x + y\n",
    "    rect[2] = pts[np.argmax(s)]  # bottom-right: largest sum of x + y\n",
    "    rect[1] = pts[np.argmin(diff)]  # top-right: smallest difference of x - y\n",
    "    rect[3] = pts[np.argmax(diff)]  # bottom-left: largest difference of x - y\n",
    "\n",
    "    return rect"
   ]
  },
  {
   "cell_type": "code",
   "execution_count": 268,
   "metadata": {},
   "outputs": [],
   "source": [
    "height = 400\n",
    "width = 800\n",
    "dst_pts = order_points(np.float32([[0, 0], [width, 0], [width, height], [0, height]]))\n",
    "src_pts = order_points(np.float32(entity_data[EntityType.BOUNDARY]))\n",
    "# Calculate the perspective transform matrix\n",
    "M = cv2.getPerspectiveTransform(src_pts, dst_pts)"
   ]
  },
  {
   "cell_type": "code",
   "execution_count": 269,
   "metadata": {},
   "outputs": [
    {
     "data": {
      "text/plain": [
       "{<EntityType.BOUNDARY: 'boundary'>: array([[800,   0],\n",
       "        [  0,   0],\n",
       "        [  0, 400],\n",
       "        [800, 400]]),\n",
       " <EntityType.PLAYER: 'player'>: [(ArenaEntity(id=5, aruco_id=None, entity_type=PLAYER, color=green, shape=triangle, tag=playerA, mobility=None),\n",
       "   array([495,  48,   0,   0,   0,   0])),\n",
       "  (ArenaEntity(id=6, aruco_id=None, entity_type=PLAYER, color=red, shape=triangle, tag=playerB, mobility=None),\n",
       "   array([224, 146,   0,   0,   0,   0]))],\n",
       " <EntityType.OBJECT: 'object'>: [],\n",
       " <EntityType.REGION: 'region'>: []}"
      ]
     },
     "execution_count": 269,
     "metadata": {},
     "output_type": "execute_result"
    }
   ],
   "source": [
    "process_entity_data(entity_data,M)"
   ]
  },
  {
   "cell_type": "code",
   "execution_count": 271,
   "metadata": {},
   "outputs": [],
   "source": [
    "warped_img = cv2.warpPerspective(image, M, (width, height))\n",
    "cv2.imshow(\"Transformed\",warped_img)\n",
    "cv2.waitKey(0)\n",
    "cv2.destroyAllWindows()"
   ]
  }
 ],
 "metadata": {
  "kernelspec": {
   "display_name": "Python 3",
   "language": "python",
   "name": "python3"
  },
  "language_info": {
   "codemirror_mode": {
    "name": "ipython",
    "version": 3
   },
   "file_extension": ".py",
   "mimetype": "text/x-python",
   "name": "python",
   "nbconvert_exporter": "python",
   "pygments_lexer": "ipython3",
   "version": "3.12.1"
  }
 },
 "nbformat": 4,
 "nbformat_minor": 2
}
